{
 "cells": [
  {
   "cell_type": "code",
   "execution_count": null,
   "metadata": {},
   "outputs": [],
   "source": [
    "from sklearn.experimental import enable_iterative_imputer\n",
    "from sklearn.impute import IterativeImputer\n",
    "from sklearn.ensemble import RandomForestRegressor\n",
    "from sklearn.preprocessing import OrdinalEncoder\n",
    "\n",
    "impute_df = covid_de.filter(['gender', 'cases', 'deaths', 'recovered'])\n",
    "impute_df = impute_df[impute_df.gender.notnull()]\n",
    "ord_enc = OrdinalEncoder()\n",
    "impute_df.gender[impute_df.gender.notnull()] = np.squeeze(ord_enc.fit_transform(impute_df[[\"gender\"]]))\n",
    "imp = IterativeImputer(estimator=RandomForestRegressor())\n",
    "imp.fit(impute_df)\n",
    "imputed_df = imp.transform(impute_df)\n",
    "imputed_df = pd.DataFrame(imputed_df, columns=impute_df.columns)"
   ]
  },
  {
   "cell_type": "code",
   "execution_count": null,
   "metadata": {},
   "outputs": [],
   "source": [
    "plt.figure(figsize=(15,8))\n",
    "ln = sns.lineplot(data=merged_data, x=\"date\", y=\"Cases per population\", hue=\"state\", palette = 'bright')\n",
    "ln.legend(bbox_to_anchor=(1.01, 1), loc='upper left')\n",
    "plt.title(\"Daily covid cases trend by State\")\n",
    "plt.show()"
   ]
  }
 ],
 "metadata": {
  "kernelspec": {
   "display_name": "Python 3",
   "language": "python",
   "name": "python3"
  },
  "language_info": {
   "codemirror_mode": {
    "name": "ipython",
    "version": 3
   },
   "file_extension": ".py",
   "mimetype": "text/x-python",
   "name": "python",
   "nbconvert_exporter": "python",
   "pygments_lexer": "ipython3",
   "version": "3.8.5"
  }
 },
 "nbformat": 4,
 "nbformat_minor": 4
}
